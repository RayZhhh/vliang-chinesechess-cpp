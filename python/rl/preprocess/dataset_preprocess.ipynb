{
 "cells": [
  {
   "cell_type": "code",
   "execution_count": 1,
   "metadata": {
    "collapsed": true
   },
   "outputs": [
    {
     "name": "stdout",
     "output_type": "stream",
     "text": [
      "dicts 初始化成功\n"
     ]
    }
   ],
   "source": [
    "import json\n",
    "import copy\n",
    "import yoll.chessboard\n",
    "from yoll.chessboard import *"
   ]
  },
  {
   "cell_type": "markdown",
   "source": [
    "导入棋谱，查看相关信息"
   ],
   "metadata": {
    "collapsed": false,
    "pycharm": {
     "name": "#%% md\n"
    }
   }
  },
  {
   "cell_type": "code",
   "execution_count": 2,
   "outputs": [
    {
     "name": "stdout",
     "output_type": "stream",
     "text": [
      "half game nums:  2861\n",
      "full game nums:  6598\n"
     ]
    }
   ],
   "source": [
    "# 读取棋谱文件\n",
    "cm_file = open('../data/raw_chess_manual.json', 'r')\n",
    "# 读取文件所有内容\n",
    "json_str = cm_file.read()\n",
    "\n",
    "# 转化成 json_dict\n",
    "cm_json = json.loads(json_str)\n",
    "\n",
    "half_game = 0\n",
    "full_game = 0\n",
    "\n",
    "for i in range(0, len(cm_json)):\n",
    "    if cm_json[i]['init'] == '':\n",
    "        full_game += 1\n",
    "    else:\n",
    "        half_game += 1\n",
    "\n",
    "print('half game nums: ', half_game)\n",
    "print('full game nums: ', full_game)"
   ],
   "metadata": {
    "collapsed": false,
    "pycharm": {
     "name": "#%%\n"
    }
   }
  },
  {
   "cell_type": "markdown",
   "source": [
    "筛选出全局棋谱，棋谱路径坐标进行变换"
   ],
   "metadata": {
    "collapsed": false,
    "pycharm": {
     "name": "#%% md\n"
    }
   }
  },
  {
   "cell_type": "code",
   "execution_count": 3,
   "outputs": [
    {
     "name": "stdout",
     "output_type": "stream",
     "text": [
      "6598\n"
     ]
    }
   ],
   "source": [
    "fout = open('../data/full_game.txt', 'w')\n",
    "row_num = 0\n",
    "\n",
    "for i in range(0, len(cm_json)):\n",
    "    if cm_json[i]['init'] == '':\n",
    "        move_list = cm_json[i]['move_list']\n",
    "        move_list_f = ''\n",
    "        for j in range(0, len(move_list), 2):\n",
    "            move_list_f += move_list[j + 1]\n",
    "            move_list_f += move_list[j]\n",
    "        fout.write(move_list_f)\n",
    "        fout.write('\\n')\n",
    "        row_num += 1\n",
    "\n",
    "print(row_num)"
   ],
   "metadata": {
    "collapsed": false,
    "pycharm": {
     "name": "#%%\n"
    }
   }
  },
  {
   "cell_type": "code",
   "execution_count": 4,
   "outputs": [],
   "source": [
    "\n",
    "def gen_dataset(move_list: str):\n",
    "    out_self = open('../data/self_move.txt', 'a')\n",
    "    out_rival_temp = open('../data/rival_move_temp.txt', 'a')\n",
    "    board = Chessboard()\n",
    "\n",
    "    for i in range(0, len(move_list), 8):\n",
    "\n",
    "        out_self.write(board.to_board_sequence() + '#')  # 写棋盘\n",
    "\n",
    "        fx, fy, tx, ty = int(move_list[i]), int(move_list[i + 1]), int(move_list[i + 2]), int(move_list[i + 3])\n",
    "        path = ChessPath(fx, fy, tx, ty)\n",
    "        out_self.write(str(path) + '\\n')  # 写路径\n",
    "\n",
    "        board.move_chess(path)\n",
    "\n",
    "        if i + 4 < len(move_list):\n",
    "            out_rival_temp.write(board.to_board_sequence() + '#')\n",
    "            fx, fy, tx, ty = int(move_list[i + 4]), int(move_list[i + 5]), int(move_list[i + 6]), int(move_list[i + 7])\n",
    "            path = ChessPath(fx, fy, tx, ty)\n",
    "\n",
    "            out_rival_temp.write(str(path) + '\\n')\n",
    "            board.move_chess(path)\n",
    "\n",
    "    out_self.close()\n",
    "    out_rival_temp.close()\n"
   ],
   "metadata": {
    "collapsed": false,
    "pycharm": {
     "name": "#%%\n"
    }
   }
  },
  {
   "cell_type": "code",
   "execution_count": 5,
   "outputs": [],
   "source": [
    "# 注释掉以免后面重复生成\n",
    "# in_full_game = open('../data/full_game.txt', 'r')\n",
    "#\n",
    "# all_lines = in_full_game.readlines()\n",
    "#\n",
    "# # for i in [all_lines[90], all_lines[91]]:\n",
    "# for i in all_lines:\n",
    "#     path = i.strip('\\n')\n",
    "#     gen_dataset(path)"
   ],
   "metadata": {
    "collapsed": false,
    "pycharm": {
     "name": "#%%\n"
    }
   }
  },
  {
   "cell_type": "markdown",
   "source": [
    "将棋谱进行变换，将对手棋谱调整为第一视角，将双方棋谱进行对称增强"
   ],
   "metadata": {
    "collapsed": false,
    "pycharm": {
     "name": "#%% md\n"
    }
   }
  },
  {
   "cell_type": "code",
   "execution_count": 5,
   "outputs": [],
   "source": [
    "# 生成 self_move_sym\n",
    "import time\n",
    "from yoll.chessboard import *\n",
    "\n",
    "fout = open('../data/self_move_sym.txt', 'a')\n",
    "fin = open('../data/self_move.txt', 'r')\n",
    "\n",
    "all_lines = fin.readlines()\n",
    "\n",
    "for line in all_lines:\n",
    "    board = Chessboard(board_seq=line.split('#')[0])\n",
    "    path = ChessPath(path_str=line.split('#')[1])\n",
    "    # board.print_chessboard()\n",
    "    # print('path: ', line.split('#')[1])\n",
    "    board.symmetry()\n",
    "    path.symmetry()\n",
    "    fout.write(board.to_board_sequence() + '#')\n",
    "    fout.write(str(path) + '\\n')"
   ],
   "metadata": {
    "collapsed": false,
    "pycharm": {
     "name": "#%%\n"
    }
   }
  },
  {
   "cell_type": "markdown",
   "source": [
    "生成 rival_move"
   ],
   "metadata": {
    "collapsed": false,
    "pycharm": {
     "name": "#%% md\n"
    }
   }
  },
  {
   "cell_type": "code",
   "execution_count": 6,
   "outputs": [],
   "source": [
    "# 生成 rival_move\n",
    "fin = open('../data/rival_move_temp.txt', 'r')\n",
    "fout = open('../data/rival_move.txt', 'a')\n",
    "\n",
    "all_lines = fin.readlines()\n",
    "\n",
    "for line in all_lines:\n",
    "    board = Chessboard(board_seq=line.split('#')[0])\n",
    "    path = ChessPath(path_str=line.split('#')[1])\n",
    "\n",
    "    board.side_exchange()\n",
    "    path.side_exchange()\n",
    "\n",
    "    fout.write(board.to_board_sequence() + '#')\n",
    "    fout.write(str(path) + '\\n')\n"
   ],
   "metadata": {
    "collapsed": false,
    "pycharm": {
     "name": "#%%\n"
    }
   }
  },
  {
   "cell_type": "markdown",
   "source": [
    "生成 rival_move_sym"
   ],
   "metadata": {
    "collapsed": false
   }
  },
  {
   "cell_type": "code",
   "execution_count": 7,
   "outputs": [],
   "source": [
    "# 生成 rival_move_sym\n",
    "fout = open('../data/rival_move_sym.txt', 'a')\n",
    "fin = open('../data/rival_move.txt', 'r')\n",
    "\n",
    "all_lines = fin.readlines()\n",
    "\n",
    "for line in all_lines:\n",
    "    board = Chessboard(board_seq=line.split('#')[0])\n",
    "    path = ChessPath(path_str=line.split('#')[1])\n",
    "    # board.print_chessboard()\n",
    "    # print('path: ', line.split('#')[1])\n",
    "    board.symmetry()\n",
    "    path.symmetry()\n",
    "    fout.write(board.to_board_sequence() + '#')\n",
    "    fout.write(str(path) + '\\n')"
   ],
   "metadata": {
    "collapsed": false,
    "pycharm": {
     "name": "#%%\n"
    }
   }
  }
 ],
 "metadata": {
  "kernelspec": {
   "display_name": "Python 3",
   "language": "python",
   "name": "python3"
  },
  "language_info": {
   "codemirror_mode": {
    "name": "ipython",
    "version": 2
   },
   "file_extension": ".py",
   "mimetype": "text/x-python",
   "name": "python",
   "nbconvert_exporter": "python",
   "pygments_lexer": "ipython2",
   "version": "2.7.6"
  }
 },
 "nbformat": 4,
 "nbformat_minor": 0
}